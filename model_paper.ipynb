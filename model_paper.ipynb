{
 "cells": [
  {
   "cell_type": "code",
   "execution_count": 1,
   "metadata": {},
   "outputs": [
    {
     "name": "stderr",
     "output_type": "stream",
     "text": [
      "Using TensorFlow backend.\n"
     ]
    }
   ],
   "source": [
    "import numpy as np\n",
    "import os\n",
    "from keras.models import Model\n",
    "from keras import layers\n",
    "\n",
    "import tensorflow as tf\n",
    "from keras.backend.tensorflow_backend import set_session\n"
   ]
  },
  {
   "cell_type": "code",
   "execution_count": 2,
   "metadata": {},
   "outputs": [],
   "source": [
    "config = tf.ConfigProto()\n",
    "config.gpu_options.allow_growth = True  # dynamically grow the memory used on the GPU\n",
    "config.log_device_placement = True  # to log device placement (on which device the operation ran)\n",
    "sess = tf.Session(config=config)\n",
    "set_session(sess)  # set this TensorFlow session as the default session for Keras"
   ]
  },
  {
   "cell_type": "code",
   "execution_count": 3,
   "metadata": {},
   "outputs": [],
   "source": [
    "def _parse_function(proto):\n",
    "\n",
    "    keys_to_features = {'sound': tf.FixedLenFeature([], tf.string),\n",
    "                        \"label\": tf.FixedLenFeature([], tf.float32)}\n",
    "    \n",
    "    # Load one example\n",
    "    parsed_features = tf.parse_single_example(proto, keys_to_features)\n",
    "    \n",
    "    # Turn the sound string back into an array\n",
    "    parsed_features['sound'] = tf.decode_raw(parsed_features['sound'], tf.float32)\n",
    "    \n",
    "    \n",
    "    return parsed_features['sound'], parsed_features[\"label\"]"
   ]
  },
  {
   "cell_type": "code",
   "execution_count": 4,
   "metadata": {},
   "outputs": [],
   "source": [
    "def create_dataset(filepath, classification=True):\n",
    "    \n",
    "    files = [filepath + \"/\" + file for file in os.listdir(filepath)]\n",
    "\n",
    "    dataset = tf.data.TFRecordDataset(files)\n",
    "    \n",
    "    # Maps the parser on every filepath in the array. You can set the number of parallel loaders here\n",
    "    dataset = dataset.map(_parse_function, num_parallel_calls=4)\n",
    "    \n",
    "    # Set the number of datapoints you want to load and shuffle \n",
    "    dataset = dataset.shuffle(buffer_size=2024)\n",
    "\n",
    "\n",
    "    # This dataset will go on forever\n",
    "    dataset = dataset.repeat()\n",
    "        \n",
    "    # Set the batchsize\n",
    "    dataset = dataset.batch(batchsize)\n",
    "    \n",
    "    # Create an iterator\n",
    "    iterator = dataset.make_one_shot_iterator()\n",
    "    \n",
    "    # Create your tf representation of the iterator\n",
    "    sound, label = iterator.get_next()\n",
    "\n",
    "    # reshape\n",
    "    sound = tf.reshape(sound, [-1, 24000, 1])\n",
    "    label = tf.reshape(label, [-1, 1])\n",
    "        \n",
    "    return sound, label"
   ]
  },
  {
   "cell_type": "code",
   "execution_count": 7,
   "metadata": {},
   "outputs": [
    {
     "name": "stdout",
     "output_type": "stream",
     "text": [
      "test samples= 8008\n"
     ]
    },
    {
     "data": {
      "text/plain": [
       "26007"
      ]
     },
     "execution_count": 7,
     "metadata": {},
     "output_type": "execute_result"
    }
   ],
   "source": [
    "train_filepath = \"./data/tf_data/train\"\n",
    "validation_filepath = \"./data/tf_data/validation\"\n",
    "\n",
    "test_filepath = \"./data/tf_data/test\"\n",
    "batchsize =55\n",
    "epochs = 25\n",
    "train_samples = sum([int(file.split(\"_\")[0]) for file in os.listdir(train_filepath)])\n",
    "test_samples = sum([int(file.split(\"_\")[0]) for file in os.listdir(test_filepath)])\n",
    "\n",
    "print(\"test samples=\",test_samples)\n",
    "\n",
    "train_samples"
   ]
  },
  {
   "cell_type": "code",
   "execution_count": 8,
   "metadata": {},
   "outputs": [
    {
     "data": {
      "text/plain": [
       "5990"
      ]
     },
     "execution_count": 8,
     "metadata": {},
     "output_type": "execute_result"
    }
   ],
   "source": [
    "val_samples = sum([int(file.split(\"_\")[0]) for file in os.listdir(validation_filepath)])\n",
    "val_samples"
   ]
  },
  {
   "cell_type": "code",
   "execution_count": 16,
   "metadata": {},
   "outputs": [
    {
     "data": {
      "text/plain": [
       "TensorShape([Dimension(None), Dimension(24000), Dimension(1)])"
      ]
     },
     "execution_count": 16,
     "metadata": {},
     "output_type": "execute_result"
    }
   ],
   "source": [
    "sound, label = create_dataset(train_filepath)\n",
    "sound.shape"
   ]
  },
  {
   "cell_type": "code",
   "execution_count": 17,
   "metadata": {},
   "outputs": [],
   "source": [
    "val_sound, val_label = create_dataset(validation_filepath)"
   ]
  },
  {
   "cell_type": "markdown",
   "metadata": {},
   "source": [
    "# Model"
   ]
  },
  {
   "cell_type": "code",
   "execution_count": 18,
   "metadata": {},
   "outputs": [],
   "source": [
    "# inputs = layers.Input(shape=(data.shape[1],1))\n",
    "inputs = layers.Input(tensor=sound)\n",
    "\n",
    "conv1 = layers.Conv1D(filters=64, kernel_size=129, padding=\"same\")(inputs)\n",
    "pool1 = layers.MaxPool1D(8)(conv1)\n",
    "\n",
    "reshape = layers.Reshape((3000,64,1))(pool1)\n",
    "\n",
    "conv2 = layers.Conv2D(filters=96, kernel_size=(61,1), padding=\"same\", activation='relu')(reshape)\n",
    "#conv2 = layers.Conv2D(filters=10, kernel_size=(61,64), padding=\"same\", activation='relu')(reshape)\n",
    "\n",
    "pool2 = layers.MaxPool2D((8,1))(conv2)\n",
    "conv3 = layers.Conv2D(filters=128, kernel_size=(35,1), padding=\"same\", activation='relu')(pool2)\n",
    "pool3 = layers.MaxPool2D((4,1))(conv3)\n",
    "conv4 = layers.Conv2D(filters=160, kernel_size=(17,1), padding=\"same\", activation='relu')(pool3)\n",
    "pool4 = layers.MaxPool2D((12,1))(conv4)\n",
    "avgpool = layers.AveragePooling2D((5,1))(pool4)\n",
    "\n",
    "flatten = layers.Flatten()(avgpool)\n",
    "\n",
    "dense1 = layers.MaxoutDense(output_dim=128,nb_feature=4)(flatten)\n",
    "dropout1 = layers.Dropout(0.5)(dense1)\n",
    "dense2 = layers.MaxoutDense(output_dim=64, nb_feature=4)(dropout1)\n",
    "dropout2 = layers.Dropout(0.5)(dense2)\n",
    "\n",
    "# max_out = maximum([Dense(neurons, **dense_args)(input_layer) for _ in range(n_pieces)])\n",
    "\n",
    "output = layers.Dense(1, activation=\"sigmoid\")(dropout2)"
   ]
  },
  {
   "cell_type": "code",
   "execution_count": 19,
   "metadata": {},
   "outputs": [
    {
     "name": "stdout",
     "output_type": "stream",
     "text": [
      "_________________________________________________________________\n",
      "Layer (type)                 Output Shape              Param #   \n",
      "=================================================================\n",
      "input_2 (InputLayer)         (None, 24000, 1)          0         \n",
      "_________________________________________________________________\n",
      "conv1d_2 (Conv1D)            (None, 24000, 64)         8320      \n",
      "_________________________________________________________________\n",
      "max_pooling1d_2 (MaxPooling1 (None, 3000, 64)          0         \n",
      "_________________________________________________________________\n",
      "reshape_2 (Reshape)          (None, 3000, 64, 1)       0         \n",
      "_________________________________________________________________\n",
      "conv2d_4 (Conv2D)            (None, 3000, 64, 96)      5952      \n",
      "_________________________________________________________________\n",
      "max_pooling2d_4 (MaxPooling2 (None, 375, 64, 96)       0         \n",
      "_________________________________________________________________\n",
      "conv2d_5 (Conv2D)            (None, 375, 64, 128)      430208    \n",
      "_________________________________________________________________\n",
      "max_pooling2d_5 (MaxPooling2 (None, 93, 64, 128)       0         \n",
      "_________________________________________________________________\n",
      "conv2d_6 (Conv2D)            (None, 93, 64, 160)       348320    \n",
      "_________________________________________________________________\n",
      "max_pooling2d_6 (MaxPooling2 (None, 7, 64, 160)        0         \n",
      "_________________________________________________________________\n",
      "average_pooling2d_2 (Average (None, 1, 64, 160)        0         \n",
      "_________________________________________________________________\n",
      "flatten_2 (Flatten)          (None, 10240)             0         \n",
      "_________________________________________________________________\n",
      "maxout_dense_3 (MaxoutDense) (None, 128)               5243392   \n",
      "_________________________________________________________________\n",
      "dropout_3 (Dropout)          (None, 128)               0         \n",
      "_________________________________________________________________\n",
      "maxout_dense_4 (MaxoutDense) (None, 64)                33024     \n",
      "_________________________________________________________________\n",
      "dropout_4 (Dropout)          (None, 64)                0         \n",
      "_________________________________________________________________\n",
      "dense_2 (Dense)              (None, 1)                 65        \n",
      "=================================================================\n",
      "Total params: 6,069,281\n",
      "Trainable params: 6,069,281\n",
      "Non-trainable params: 0\n",
      "_________________________________________________________________\n"
     ]
    }
   ],
   "source": [
    "model = Model(inputs=inputs, outputs=output)\n",
    "model.summary()"
   ]
  },
  {
   "cell_type": "code",
   "execution_count": 20,
   "metadata": {},
   "outputs": [],
   "source": [
    "model.compile(optimizer='Adam',\n",
    "              loss='binary_crossentropy',\n",
    "              metrics=['accuracy'],\n",
    "              target_tensors=[label])"
   ]
  },
  {
   "cell_type": "code",
   "execution_count": 21,
   "metadata": {},
   "outputs": [
    {
     "name": "stdout",
     "output_type": "stream",
     "text": [
      "WARNING:tensorflow:From /usr/local/lib/python3.5/dist-packages/tensorflow/python/ops/math_ops.py:3066: to_int32 (from tensorflow.python.ops.math_ops) is deprecated and will be removed in a future version.\n",
      "Instructions for updating:\n",
      "Use tf.cast instead.\n",
      "WARNING:tensorflow:From /usr/local/lib/python3.5/dist-packages/tensorflow/python/ops/math_grad.py:102: div (from tensorflow.python.ops.math_ops) is deprecated and will be removed in a future version.\n",
      "Instructions for updating:\n",
      "Deprecated in favor of operator or tf.math.divide.\n",
      "Epoch 1/25\n",
      "472/472 [==============================] - 555s 1s/step - loss: 0.6833 - acc: 0.5678 - val_loss: 0.6842 - val_acc: 0.5744\n",
      "Epoch 2/25\n",
      "472/472 [==============================] - 543s 1s/step - loss: 0.6329 - acc: 0.6414 - val_loss: 0.6087 - val_acc: 0.6774\n",
      "Epoch 3/25\n",
      "472/472 [==============================] - 545s 1s/step - loss: 0.5785 - acc: 0.7041 - val_loss: 0.6094 - val_acc: 0.6744\n",
      "Epoch 4/25\n",
      "472/472 [==============================] - 545s 1s/step - loss: 0.5544 - acc: 0.7236 - val_loss: 0.5776 - val_acc: 0.6975\n",
      "Epoch 5/25\n",
      "472/472 [==============================] - 545s 1s/step - loss: 0.5392 - acc: 0.7333 - val_loss: 0.5165 - val_acc: 0.7456\n",
      "Epoch 6/25\n",
      "472/472 [==============================] - 545s 1s/step - loss: 0.5176 - acc: 0.7502 - val_loss: 0.5037 - val_acc: 0.7652\n",
      "Epoch 7/25\n",
      "472/472 [==============================] - 549s 1s/step - loss: 0.4942 - acc: 0.7639 - val_loss: 0.5178 - val_acc: 0.7471\n",
      "Epoch 8/25\n",
      "472/472 [==============================] - 548s 1s/step - loss: 0.4716 - acc: 0.7793 - val_loss: 0.5205 - val_acc: 0.7367\n",
      "Epoch 9/25\n",
      "472/472 [==============================] - 549s 1s/step - loss: 0.4392 - acc: 0.7997 - val_loss: 0.4359 - val_acc: 0.8008\n",
      "Epoch 10/25\n",
      "472/472 [==============================] - 550s 1s/step - loss: 0.3881 - acc: 0.8265 - val_loss: 0.3382 - val_acc: 0.8524\n",
      "Epoch 11/25\n",
      "472/472 [==============================] - 550s 1s/step - loss: 0.3355 - acc: 0.8550 - val_loss: 0.3350 - val_acc: 0.8552\n",
      "Epoch 12/25\n",
      "472/472 [==============================] - 551s 1s/step - loss: 0.2824 - acc: 0.8839 - val_loss: 0.4545 - val_acc: 0.8062\n",
      "Epoch 13/25\n",
      "472/472 [==============================] - 552s 1s/step - loss: 0.2303 - acc: 0.9082 - val_loss: 0.2363 - val_acc: 0.9015\n",
      "Epoch 14/25\n",
      "472/472 [==============================] - 552s 1s/step - loss: 0.1776 - acc: 0.9295 - val_loss: 0.2008 - val_acc: 0.9187\n",
      "Epoch 15/25\n",
      "472/472 [==============================] - 552s 1s/step - loss: 0.1482 - acc: 0.9430 - val_loss: 0.1494 - val_acc: 0.9414\n",
      "Epoch 16/25\n",
      "472/472 [==============================] - 552s 1s/step - loss: 0.1133 - acc: 0.9569 - val_loss: 0.1452 - val_acc: 0.9426\n",
      "Epoch 17/25\n",
      "472/472 [==============================] - 551s 1s/step - loss: 0.1005 - acc: 0.9638 - val_loss: 0.0950 - val_acc: 0.9636\n",
      "Epoch 18/25\n",
      "472/472 [==============================] - 550s 1s/step - loss: 0.0840 - acc: 0.9700 - val_loss: 0.0814 - val_acc: 0.9709\n",
      "Epoch 19/25\n",
      "472/472 [==============================] - 551s 1s/step - loss: 0.0792 - acc: 0.9714 - val_loss: 0.0796 - val_acc: 0.9717\n",
      "Epoch 20/25\n",
      "472/472 [==============================] - 551s 1s/step - loss: 0.0685 - acc: 0.9752 - val_loss: 0.0995 - val_acc: 0.9650\n",
      "Epoch 21/25\n",
      "472/472 [==============================] - 551s 1s/step - loss: 0.0584 - acc: 0.9790 - val_loss: 0.1157 - val_acc: 0.9609\n",
      "Epoch 22/25\n",
      "472/472 [==============================] - 551s 1s/step - loss: 0.0604 - acc: 0.9780 - val_loss: 0.0627 - val_acc: 0.9791\n",
      "Epoch 23/25\n",
      "472/472 [==============================] - 551s 1s/step - loss: 0.0488 - acc: 0.9830 - val_loss: 0.0972 - val_acc: 0.9658\n",
      "Epoch 24/25\n",
      "472/472 [==============================] - 551s 1s/step - loss: 0.0502 - acc: 0.9828 - val_loss: 0.0646 - val_acc: 0.9761\n",
      "Epoch 25/25\n",
      "472/472 [==============================] - 551s 1s/step - loss: 0.0435 - acc: 0.9852 - val_loss: 0.0533 - val_acc: 0.9805\n"
     ]
    }
   ],
   "source": [
    "history = model.fit(epochs=epochs,\n",
    "                    steps_per_epoch=int(train_samples/batchsize),\n",
    "                    validation_data=(val_sound, val_label),\n",
    "                    validation_steps=int(val_samples/batchsize))"
   ]
  },
  {
   "cell_type": "code",
   "execution_count": 22,
   "metadata": {},
   "outputs": [],
   "source": [
    "history_old = history"
   ]
  },
  {
   "cell_type": "code",
   "execution_count": 24,
   "metadata": {},
   "outputs": [
    {
     "data": {
      "image/png": "[encoded data removed]",
      "text/plain": [
       "<Figure size 432x288 with 1 Axes>"
      ]
     },
     "metadata": {
      "needs_background": "light"
     },
     "output_type": "display_data"
    }
   ],
   "source": [
    "import matplotlib.pyplot as plt\n",
    "\n",
    "acc = history.history['acc']\n",
    "val_acc = history.history['val_acc']\n",
    "loss = history.history['loss']\n",
    "val_loss = history.history['val_loss']\n",
    "\n",
    "epochs = range(1, len(acc) + 1)\n",
    "\n",
    "# \"bo\" is for \"blue dot\"\n",
    "plt.plot(epochs, loss, 'bo', label='Training loss')\n",
    "# b is for \"solid blue line\"\n",
    "plt.plot(epochs, val_loss, 'b', label='Validation loss')\n",
    "plt.title('Training and validation loss')\n",
    "plt.xlabel('Epochs')\n",
    "plt.ylabel('Loss')\n",
    "plt.legend()\n",
    "\n",
    "plt.show()"
   ]
  },
  {
   "cell_type": "code",
   "execution_count": 25,
   "metadata": {},
   "outputs": [
    {
     "data": {
      "image/png": "[encoded data removed]",
      "text/plain": [
       "<Figure size 432x288 with 1 Axes>"
      ]
     },
     "metadata": {
      "needs_background": "light"
     },
     "output_type": "display_data"
    }
   ],
   "source": [
    "history_dict = history.history\n",
    "plt.clf()   # clear figure\n",
    "acc_values = history_dict['acc']\n",
    "val_acc_values = history_dict['val_acc']\n",
    "\n",
    "plt.plot(epochs, acc, 'bo', label='Training acc')\n",
    "plt.plot(epochs, val_acc, 'b', label='Validation acc')\n",
    "plt.title('Training and validation accuracy')\n",
    "plt.xlabel('Epochs')\n",
    "plt.ylabel('Accuracy')\n",
    "plt.legend()\n",
    "\n",
    "plt.show()"
   ]
  },
  {
   "cell_type": "code",
   "execution_count": 26,
   "metadata": {},
   "outputs": [],
   "source": [
    "#################  WARNING ############################\n",
    "################# SAVE THE TRAINED MODEL\n",
    "model.save('./trained_models/model_paper/model.h5')\n"
   ]
  },
  {
   "cell_type": "code",
   "execution_count": 27,
   "metadata": {},
   "outputs": [],
   "source": [
    "test_filepath = \"./data/tf_data/test\"\n",
    "test_sound, test_label = create_dataset(test_filepath)"
   ]
  },
  {
   "cell_type": "code",
   "execution_count": 36,
   "metadata": {},
   "outputs": [
    {
     "ename": "TypeError",
     "evalue": "unsupported operand type(s) for +: 'NoneType' and 'int'",
     "output_type": "error",
     "traceback": [
      "\u001b[0;31m---------------------------------------------------------------------------\u001b[0m",
      "\u001b[0;31mTypeError\u001b[0m                                 Traceback (most recent call last)",
      "\u001b[0;32m<ipython-input-36-0c3a94fe3599>\u001b[0m in \u001b[0;36m<module>\u001b[0;34m\u001b[0m\n\u001b[0;32m----> 1\u001b[0;31m \u001b[0mynew\u001b[0m \u001b[0;34m=\u001b[0m \u001b[0mmodel\u001b[0m\u001b[0;34m.\u001b[0m\u001b[0mpredict\u001b[0m\u001b[0;34m(\u001b[0m\u001b[0mtest_sound\u001b[0m\u001b[0;34m,\u001b[0m\u001b[0mbatch_size\u001b[0m\u001b[0;34m=\u001b[0m\u001b[0mbatchsize\u001b[0m\u001b[0;34m)\u001b[0m\u001b[0;34m\u001b[0m\u001b[0m\n\u001b[0m",
      "\u001b[0;32m/usr/local/lib/python3.5/dist-packages/keras/engine/training.py\u001b[0m in \u001b[0;36mpredict\u001b[0;34m(self, x, batch_size, verbose, steps)\u001b[0m\n\u001b[1;32m   1167\u001b[0m                                             \u001b[0mbatch_size\u001b[0m\u001b[0;34m=\u001b[0m\u001b[0mbatch_size\u001b[0m\u001b[0;34m,\u001b[0m\u001b[0;34m\u001b[0m\u001b[0m\n\u001b[1;32m   1168\u001b[0m                                             \u001b[0mverbose\u001b[0m\u001b[0;34m=\u001b[0m\u001b[0mverbose\u001b[0m\u001b[0;34m,\u001b[0m\u001b[0;34m\u001b[0m\u001b[0m\n\u001b[0;32m-> 1169\u001b[0;31m                                             steps=steps)\n\u001b[0m\u001b[1;32m   1170\u001b[0m \u001b[0;34m\u001b[0m\u001b[0m\n\u001b[1;32m   1171\u001b[0m     def train_on_batch(self, x, y,\n",
      "\u001b[0;32m/usr/local/lib/python3.5/dist-packages/keras/engine/training_arrays.py\u001b[0m in \u001b[0;36mpredict_loop\u001b[0;34m(model, f, ins, batch_size, verbose, steps)\u001b[0m\n\u001b[1;32m    280\u001b[0m         \u001b[0;31m# Sample-based predictions.\u001b[0m\u001b[0;34m\u001b[0m\u001b[0;34m\u001b[0m\u001b[0m\n\u001b[1;32m    281\u001b[0m         \u001b[0mouts\u001b[0m \u001b[0;34m=\u001b[0m \u001b[0;34m[\u001b[0m\u001b[0;34m]\u001b[0m\u001b[0;34m\u001b[0m\u001b[0m\n\u001b[0;32m--> 282\u001b[0;31m         \u001b[0mbatches\u001b[0m \u001b[0;34m=\u001b[0m \u001b[0mmake_batches\u001b[0m\u001b[0;34m(\u001b[0m\u001b[0mnum_samples\u001b[0m\u001b[0;34m,\u001b[0m \u001b[0mbatch_size\u001b[0m\u001b[0;34m)\u001b[0m\u001b[0;34m\u001b[0m\u001b[0m\n\u001b[0m\u001b[1;32m    283\u001b[0m         \u001b[0mindex_array\u001b[0m \u001b[0;34m=\u001b[0m \u001b[0mnp\u001b[0m\u001b[0;34m.\u001b[0m\u001b[0marange\u001b[0m\u001b[0;34m(\u001b[0m\u001b[0mnum_samples\u001b[0m\u001b[0;34m)\u001b[0m\u001b[0;34m\u001b[0m\u001b[0m\n\u001b[1;32m    284\u001b[0m         \u001b[0;32mfor\u001b[0m \u001b[0mbatch_index\u001b[0m\u001b[0;34m,\u001b[0m \u001b[0;34m(\u001b[0m\u001b[0mbatch_start\u001b[0m\u001b[0;34m,\u001b[0m \u001b[0mbatch_end\u001b[0m\u001b[0;34m)\u001b[0m \u001b[0;32min\u001b[0m \u001b[0menumerate\u001b[0m\u001b[0;34m(\u001b[0m\u001b[0mbatches\u001b[0m\u001b[0;34m)\u001b[0m\u001b[0;34m:\u001b[0m\u001b[0;34m\u001b[0m\u001b[0m\n",
      "\u001b[0;32m/usr/local/lib/python3.5/dist-packages/keras/engine/training_utils.py\u001b[0m in \u001b[0;36mmake_batches\u001b[0;34m(size, batch_size)\u001b[0m\n\u001b[1;32m    367\u001b[0m         \u001b[0mA\u001b[0m \u001b[0mlist\u001b[0m \u001b[0mof\u001b[0m \u001b[0mtuples\u001b[0m \u001b[0mof\u001b[0m \u001b[0marray\u001b[0m \u001b[0mindices\u001b[0m\u001b[0;34m.\u001b[0m\u001b[0;34m\u001b[0m\u001b[0m\n\u001b[1;32m    368\u001b[0m     \"\"\"\n\u001b[0;32m--> 369\u001b[0;31m     \u001b[0mnum_batches\u001b[0m \u001b[0;34m=\u001b[0m \u001b[0;34m(\u001b[0m\u001b[0msize\u001b[0m \u001b[0;34m+\u001b[0m \u001b[0mbatch_size\u001b[0m \u001b[0;34m-\u001b[0m \u001b[0;36m1\u001b[0m\u001b[0;34m)\u001b[0m \u001b[0;34m//\u001b[0m \u001b[0mbatch_size\u001b[0m  \u001b[0;31m# round up\u001b[0m\u001b[0;34m\u001b[0m\u001b[0m\n\u001b[0m\u001b[1;32m    370\u001b[0m     return [(i * batch_size, min(size, (i + 1) * batch_size))\n\u001b[1;32m    371\u001b[0m             for i in range(num_batches)]\n",
      "\u001b[0;31mTypeError\u001b[0m: unsupported operand type(s) for +: 'NoneType' and 'int'"
     ]
    }
   ],
   "source": [
    "ynew = model.predict(test_sound,batch_size=batchsize)"
   ]
  },
  {
   "cell_type": "code",
   "execution_count": 31,
   "metadata": {},
   "outputs": [
    {
     "data": {
      "text/plain": [
       "TensorShape([Dimension(None), Dimension(24000), Dimension(1)])"
      ]
     },
     "execution_count": 31,
     "metadata": {},
     "output_type": "execute_result"
    }
   ],
   "source": [
    "test_sound.shape"
   ]
  },
  {
   "cell_type": "code",
   "execution_count": null,
   "metadata": {},
   "outputs": [],
   "source": []
  }
 ],
 "metadata": {
  "kernelspec": {
   "display_name": "Python 3",
   "language": "python",
   "name": "python3"
  },
  "language_info": {
   "codemirror_mode": {
    "name": "ipython",
    "version": 3
   },
   "file_extension": ".py",
   "mimetype": "text/x-python",
   "name": "python",
   "nbconvert_exporter": "python",
   "pygments_lexer": "ipython3",
   "version": "3.5.3"
  }
 },
 "nbformat": 4,
 "nbformat_minor": 2
}
