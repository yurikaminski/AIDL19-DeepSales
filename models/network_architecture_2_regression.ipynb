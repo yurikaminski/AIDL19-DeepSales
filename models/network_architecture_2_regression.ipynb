{
  "nbformat": 4,
  "nbformat_minor": 0,
  "metadata": {
    "colab": {
      "name": "network_architecture_2_regression.ipynb",
      "version": "0.3.2",
      "provenance": [],
      "collapsed_sections": [
        "sbbUtRphzBY3",
        "axTTPeUPzBZi"
      ],
      "toc_visible": true,
      "include_colab_link": true
    },
    "language_info": {
      "codemirror_mode": {
        "name": "ipython",
        "version": 3
      },
      "file_extension": ".py",
      "mimetype": "text/x-python",
      "name": "python",
      "nbconvert_exporter": "python",
      "pygments_lexer": "ipython3",
      "version": "3.6.7"
    },
    "kernelspec": {
      "display_name": "Python 3",
      "language": "python",
      "name": "python3"
    },
    "accelerator": "GPU"
  },
  "cells": [
    {
      "cell_type": "markdown",
      "metadata": {
        "id": "view-in-github",
        "colab_type": "text"
      },
      "source": [
        "<a href=\"https://colab.research.google.com/github/yurikaminski/AIDL19-DeepSales/blob/master/models/network_architecture_2_regression.ipynb\" target=\"_parent\"><img src=\"https://colab.research.google.com/assets/colab-badge.svg\" alt=\"Open In Colab\"/></a>"
      ]
    },
    {
      "cell_type": "markdown",
      "metadata": {
        "id": "Is0tmhUBYm2V",
        "colab_type": "text"
      },
      "source": [
        "### 1 We import the adequate libraries"
      ]
    },
    {
      "cell_type": "code",
      "metadata": {
        "colab_type": "code",
        "id": "LZQly301zBXH",
        "scrolled": true,
        "colab": {}
      },
      "source": [
        "import numpy as np\n",
        "import keras\n",
        "from scipy.io import wavfile\n",
        "keras.__version__\n",
        "np.random.seed(123)"
      ],
      "execution_count": 0,
      "outputs": []
    },
    {
      "cell_type": "markdown",
      "metadata": {
        "id": "OGNhfxFXYm2c",
        "colab_type": "text"
      },
      "source": [
        "### 2 We define our model architecture"
      ]
    },
    {
      "cell_type": "code",
      "metadata": {
        "colab_type": "code",
        "id": "bfu24Cq7-8Rn",
        "outputId": "a8ad1a2d-09f2-4841-ddbb-044c072b73ce",
        "colab": {
          "base_uri": "https://localhost:8080/",
          "height": 71
        }
      },
      "source": [
        "from keras import models\n",
        "from keras import layers\n",
        "from keras import utils\n",
        "\n",
        "\n",
        "model = models.Sequential()\n",
        "model.add(layers.Conv1D(filters=64,kernel_size= 129, padding='same',input_shape=(24000,1)))\n",
        "model.add(layers.MaxPooling1D(pool_size=8))\n",
        "model.add(layers.Reshape((3000,64,1)))\n",
        "model.add(layers.Conv2D(filters=96, kernel_size=(61,1),padding = 'same',activation='relu'))\n",
        "model.add(layers.MaxPooling2D(pool_size=(8,1)))\n",
        "model.add(layers.Conv2D(filters=128, kernel_size= (35,1), padding = 'same',activation='relu'))\n",
        "model.add(layers.MaxPooling2D(pool_size=(4,1)))\n",
        "model.add(layers.Conv2D(filters=160, kernel_size= (17,1), padding = 'same', activation='relu'))\n",
        "model.add(layers.MaxPooling2D(pool_size=(12,1)))\n",
        "model.add(layers.AveragePooling2D((5,1)))\n",
        "model.add(layers.Flatten())\n",
        "model.add(layers.MaxoutDense(output_dim=128,nb_feature=2))\n",
        "model.add(layers.Dropout(0.5))\n",
        "model.add(layers.MaxoutDense(output_dim=64, nb_feature=2))\n",
        "model.add(layers.Dropout(0.5))\n",
        "model.add(layers.Dense(1))\n",
        "\n",
        "\n"
      ],
      "execution_count": 0,
      "outputs": [
        {
          "output_type": "stream",
          "text": [
            "/usr/local/lib/python3.6/dist-packages/keras/legacy/layers.py:74: UserWarning: The `MaxoutDense` layer is deprecated and will be removed after 06/2017.\n",
            "  warnings.warn('The `MaxoutDense` layer is deprecated '\n"
          ],
          "name": "stderr"
        }
      ]
    },
    {
      "cell_type": "markdown",
      "metadata": {
        "id": "bVjPYGubYm2j",
        "colab_type": "text"
      },
      "source": [
        "### 3 We define the loss function and the optimization algorithm"
      ]
    },
    {
      "cell_type": "code",
      "metadata": {
        "colab_type": "code",
        "id": "ryJQ27Qu_MA2",
        "colab": {}
      },
      "source": [
        "model.compile(optimizer='SGD',\n",
        "              loss='mean_squared_error',\n",
        "              metrics=['accuracy'])"
      ],
      "execution_count": 0,
      "outputs": []
    },
    {
      "cell_type": "code",
      "metadata": {
        "colab_type": "code",
        "id": "oZSMOYr7nm1l",
        "outputId": "ed46c087-0162-4ced-f060-eeff93b25488",
        "colab": {
          "base_uri": "https://localhost:8080/",
          "height": 680
        }
      },
      "source": [
        "model.summary()"
      ],
      "execution_count": 0,
      "outputs": [
        {
          "output_type": "stream",
          "text": [
            "_________________________________________________________________\n",
            "Layer (type)                 Output Shape              Param #   \n",
            "=================================================================\n",
            "conv1d_2 (Conv1D)            (None, 24000, 64)         8320      \n",
            "_________________________________________________________________\n",
            "max_pooling1d_2 (MaxPooling1 (None, 3000, 64)          0         \n",
            "_________________________________________________________________\n",
            "reshape_2 (Reshape)          (None, 3000, 64, 1)       0         \n",
            "_________________________________________________________________\n",
            "conv2d_4 (Conv2D)            (None, 3000, 64, 96)      5952      \n",
            "_________________________________________________________________\n",
            "max_pooling2d_4 (MaxPooling2 (None, 375, 64, 96)       0         \n",
            "_________________________________________________________________\n",
            "conv2d_5 (Conv2D)            (None, 375, 64, 128)      430208    \n",
            "_________________________________________________________________\n",
            "max_pooling2d_5 (MaxPooling2 (None, 93, 64, 128)       0         \n",
            "_________________________________________________________________\n",
            "conv2d_6 (Conv2D)            (None, 93, 64, 160)       348320    \n",
            "_________________________________________________________________\n",
            "max_pooling2d_6 (MaxPooling2 (None, 7, 64, 160)        0         \n",
            "_________________________________________________________________\n",
            "average_pooling2d_2 (Average (None, 1, 64, 160)        0         \n",
            "_________________________________________________________________\n",
            "flatten_2 (Flatten)          (None, 10240)             0         \n",
            "_________________________________________________________________\n",
            "maxout_dense_3 (MaxoutDense) (None, 128)               2621696   \n",
            "_________________________________________________________________\n",
            "dropout_3 (Dropout)          (None, 128)               0         \n",
            "_________________________________________________________________\n",
            "maxout_dense_4 (MaxoutDense) (None, 64)                16512     \n",
            "_________________________________________________________________\n",
            "dropout_4 (Dropout)          (None, 64)                0         \n",
            "_________________________________________________________________\n",
            "dense_2 (Dense)              (None, 1)                 65        \n",
            "=================================================================\n",
            "Total params: 3,431,073\n",
            "Trainable params: 3,431,073\n",
            "Non-trainable params: 0\n",
            "_________________________________________________________________\n"
          ],
          "name": "stdout"
        }
      ]
    },
    {
      "cell_type": "markdown",
      "metadata": {
        "id": "Jzs2JDV-uxMZ",
        "colab_type": "text"
      },
      "source": [
        "### 4 We make a dumb trainnning in order to check the architecture"
      ]
    },
    {
      "cell_type": "code",
      "metadata": {
        "colab_type": "code",
        "id": "1K69bBZGsh4A",
        "outputId": "8b87eca8-30ba-4ed6-83d7-1f07c985c2bd",
        "colab": {
          "base_uri": "https://localhost:8080/",
          "height": 68
        }
      },
      "source": [
        "numSamples = 3\n",
        "dummyTraining = np.random.random((numSamples,24000,1))\n",
        "dummyLabel = numSamples*[0]\n",
        "\n",
        "for i in range(numSamples):  \n",
        "  dummyLabel[i]=(np.mean(dummyTraining[i]))\n",
        "  print(dummyLabel[i])\n",
        "   \n"
      ],
      "execution_count": 0,
      "outputs": [
        {
          "output_type": "stream",
          "text": [
            "0.4974949943662952\n",
            "0.49931612767668015\n",
            "0.5001137353587485\n"
          ],
          "name": "stdout"
        }
      ]
    },
    {
      "cell_type": "code",
      "metadata": {
        "colab_type": "code",
        "id": "erZGeEim_3CT",
        "outputId": "f0f3203c-d8c9-4f14-ee98-a1c31d977a44",
        "colab": {
          "base_uri": "https://localhost:8080/",
          "height": 1000
        }
      },
      "source": [
        "history = model.fit(dummyTraining,\n",
        "                    dummyLabel,\n",
        "                    epochs=100,\n",
        "                    batch_size=3)\n",
        "original_hist = history"
      ],
      "execution_count": 0,
      "outputs": [
        {
          "output_type": "stream",
          "text": [
            "Epoch 1/100\n",
            "3/3 [==============================] - 1s 206ms/step - loss: 0.0111 - acc: 0.0000e+00\n",
            "Epoch 2/100\n",
            "3/3 [==============================] - 0s 50ms/step - loss: 0.0553 - acc: 0.0000e+00\n",
            "Epoch 3/100\n",
            "3/3 [==============================] - 0s 47ms/step - loss: 0.1519 - acc: 0.0000e+00\n",
            "Epoch 4/100\n",
            "3/3 [==============================] - 0s 44ms/step - loss: 0.0749 - acc: 0.0000e+00\n",
            "Epoch 5/100\n",
            "3/3 [==============================] - 0s 42ms/step - loss: 0.0116 - acc: 0.0000e+00\n",
            "Epoch 6/100\n",
            "3/3 [==============================] - 0s 40ms/step - loss: 0.0481 - acc: 0.0000e+00\n",
            "Epoch 7/100\n",
            "3/3 [==============================] - 0s 39ms/step - loss: 0.0207 - acc: 0.0000e+00\n",
            "Epoch 8/100\n",
            "3/3 [==============================] - 0s 39ms/step - loss: 0.0074 - acc: 0.0000e+00\n",
            "Epoch 9/100\n",
            "3/3 [==============================] - 0s 40ms/step - loss: 0.0037 - acc: 0.0000e+00\n",
            "Epoch 10/100\n",
            "3/3 [==============================] - 0s 39ms/step - loss: 0.0350 - acc: 0.0000e+00\n",
            "Epoch 11/100\n",
            "3/3 [==============================] - 0s 39ms/step - loss: 0.0779 - acc: 0.0000e+00\n",
            "Epoch 12/100\n",
            "3/3 [==============================] - 0s 39ms/step - loss: 0.0027 - acc: 0.0000e+00\n",
            "Epoch 13/100\n",
            "3/3 [==============================] - 0s 39ms/step - loss: 0.0091 - acc: 0.0000e+00\n",
            "Epoch 14/100\n",
            "3/3 [==============================] - 0s 39ms/step - loss: 0.0096 - acc: 0.0000e+00\n",
            "Epoch 15/100\n",
            "3/3 [==============================] - 0s 39ms/step - loss: 0.0666 - acc: 0.0000e+00\n",
            "Epoch 16/100\n",
            "3/3 [==============================] - 0s 39ms/step - loss: 0.0246 - acc: 0.0000e+00\n",
            "Epoch 17/100\n",
            "3/3 [==============================] - 0s 39ms/step - loss: 0.0814 - acc: 0.0000e+00\n",
            "Epoch 18/100\n",
            "3/3 [==============================] - 0s 39ms/step - loss: 0.0814 - acc: 0.0000e+00\n",
            "Epoch 19/100\n",
            "3/3 [==============================] - 0s 39ms/step - loss: 0.0150 - acc: 0.0000e+00\n",
            "Epoch 20/100\n",
            "3/3 [==============================] - 0s 39ms/step - loss: 0.0140 - acc: 0.0000e+00\n",
            "Epoch 21/100\n",
            "3/3 [==============================] - 0s 39ms/step - loss: 0.0314 - acc: 0.0000e+00\n",
            "Epoch 22/100\n",
            "3/3 [==============================] - 0s 39ms/step - loss: 0.0210 - acc: 0.0000e+00\n",
            "Epoch 23/100\n",
            "3/3 [==============================] - 0s 38ms/step - loss: 0.0109 - acc: 0.0000e+00\n",
            "Epoch 24/100\n",
            "3/3 [==============================] - 0s 37ms/step - loss: 0.0287 - acc: 0.0000e+00\n",
            "Epoch 25/100\n",
            "3/3 [==============================] - 0s 38ms/step - loss: 0.0183 - acc: 0.0000e+00\n",
            "Epoch 26/100\n",
            "3/3 [==============================] - 0s 37ms/step - loss: 0.0156 - acc: 0.0000e+00\n",
            "Epoch 27/100\n",
            "3/3 [==============================] - 0s 38ms/step - loss: 0.0325 - acc: 0.0000e+00\n",
            "Epoch 28/100\n",
            "3/3 [==============================] - 0s 38ms/step - loss: 0.0107 - acc: 0.0000e+00\n",
            "Epoch 29/100\n",
            "3/3 [==============================] - 0s 38ms/step - loss: 0.0137 - acc: 0.0000e+00\n",
            "Epoch 30/100\n",
            "3/3 [==============================] - 0s 38ms/step - loss: 0.0300 - acc: 0.0000e+00\n",
            "Epoch 31/100\n",
            "3/3 [==============================] - 0s 38ms/step - loss: 0.0714 - acc: 0.0000e+00\n",
            "Epoch 32/100\n",
            "3/3 [==============================] - 0s 38ms/step - loss: 0.0270 - acc: 0.0000e+00\n",
            "Epoch 33/100\n",
            "3/3 [==============================] - 0s 39ms/step - loss: 0.0444 - acc: 0.0000e+00\n",
            "Epoch 34/100\n",
            "3/3 [==============================] - 0s 38ms/step - loss: 0.0099 - acc: 0.0000e+00\n",
            "Epoch 35/100\n",
            "3/3 [==============================] - 0s 37ms/step - loss: 0.0147 - acc: 0.0000e+00\n",
            "Epoch 36/100\n",
            "3/3 [==============================] - 0s 38ms/step - loss: 0.0146 - acc: 0.0000e+00\n",
            "Epoch 37/100\n",
            "3/3 [==============================] - 0s 38ms/step - loss: 0.0052 - acc: 0.0000e+00\n",
            "Epoch 38/100\n",
            "3/3 [==============================] - 0s 37ms/step - loss: 0.0022 - acc: 0.0000e+00\n",
            "Epoch 39/100\n",
            "3/3 [==============================] - 0s 38ms/step - loss: 0.0040 - acc: 0.0000e+00\n",
            "Epoch 40/100\n",
            "3/3 [==============================] - 0s 38ms/step - loss: 0.0683 - acc: 0.0000e+00\n",
            "Epoch 41/100\n",
            "3/3 [==============================] - 0s 39ms/step - loss: 0.0299 - acc: 0.0000e+00\n",
            "Epoch 42/100\n",
            "3/3 [==============================] - 0s 38ms/step - loss: 0.0145 - acc: 0.0000e+00\n",
            "Epoch 43/100\n",
            "3/3 [==============================] - 0s 37ms/step - loss: 0.0211 - acc: 0.0000e+00\n",
            "Epoch 44/100\n",
            "3/3 [==============================] - 0s 38ms/step - loss: 0.0190 - acc: 0.0000e+00\n",
            "Epoch 45/100\n",
            "3/3 [==============================] - 0s 37ms/step - loss: 0.0092 - acc: 0.0000e+00\n",
            "Epoch 46/100\n",
            "3/3 [==============================] - 0s 38ms/step - loss: 0.0038 - acc: 0.0000e+00\n",
            "Epoch 47/100\n",
            "3/3 [==============================] - 0s 38ms/step - loss: 0.0160 - acc: 0.0000e+00\n",
            "Epoch 48/100\n",
            "3/3 [==============================] - 0s 38ms/step - loss: 0.0273 - acc: 0.0000e+00\n",
            "Epoch 49/100\n",
            "3/3 [==============================] - 0s 37ms/step - loss: 0.0285 - acc: 0.0000e+00\n",
            "Epoch 50/100\n",
            "3/3 [==============================] - 0s 38ms/step - loss: 0.0273 - acc: 0.0000e+00\n",
            "Epoch 51/100\n",
            "3/3 [==============================] - 0s 38ms/step - loss: 0.0101 - acc: 0.0000e+00\n",
            "Epoch 52/100\n",
            "3/3 [==============================] - 0s 39ms/step - loss: 0.0066 - acc: 0.0000e+00\n",
            "Epoch 53/100\n",
            "3/3 [==============================] - 0s 38ms/step - loss: 0.0094 - acc: 0.0000e+00\n",
            "Epoch 54/100\n",
            "3/3 [==============================] - 0s 38ms/step - loss: 0.0044 - acc: 0.0000e+00\n",
            "Epoch 55/100\n",
            "3/3 [==============================] - 0s 38ms/step - loss: 0.0052 - acc: 0.0000e+00\n",
            "Epoch 56/100\n",
            "3/3 [==============================] - 0s 38ms/step - loss: 0.0299 - acc: 0.0000e+00\n",
            "Epoch 57/100\n",
            "3/3 [==============================] - 0s 37ms/step - loss: 0.0031 - acc: 0.0000e+00\n",
            "Epoch 58/100\n",
            "3/3 [==============================] - 0s 37ms/step - loss: 0.0039 - acc: 0.0000e+00\n",
            "Epoch 59/100\n",
            "3/3 [==============================] - 0s 38ms/step - loss: 0.0015 - acc: 0.0000e+00\n",
            "Epoch 60/100\n",
            "3/3 [==============================] - 0s 37ms/step - loss: 0.0071 - acc: 0.0000e+00\n",
            "Epoch 61/100\n",
            "3/3 [==============================] - 0s 38ms/step - loss: 0.0094 - acc: 0.0000e+00\n",
            "Epoch 62/100\n",
            "3/3 [==============================] - 0s 38ms/step - loss: 0.0119 - acc: 0.0000e+00\n",
            "Epoch 63/100\n",
            "3/3 [==============================] - 0s 38ms/step - loss: 0.0204 - acc: 0.0000e+00\n",
            "Epoch 64/100\n",
            "3/3 [==============================] - 0s 38ms/step - loss: 0.0068 - acc: 0.0000e+00\n",
            "Epoch 65/100\n",
            "3/3 [==============================] - 0s 38ms/step - loss: 0.0011 - acc: 0.0000e+00\n",
            "Epoch 66/100\n",
            "3/3 [==============================] - 0s 38ms/step - loss: 0.0144 - acc: 0.0000e+00\n",
            "Epoch 67/100\n",
            "3/3 [==============================] - 0s 38ms/step - loss: 0.0113 - acc: 0.0000e+00\n",
            "Epoch 68/100\n",
            "3/3 [==============================] - 0s 38ms/step - loss: 0.0137 - acc: 0.0000e+00\n",
            "Epoch 69/100\n",
            "3/3 [==============================] - 0s 37ms/step - loss: 0.0032 - acc: 0.0000e+00\n",
            "Epoch 70/100\n",
            "3/3 [==============================] - 0s 37ms/step - loss: 0.0101 - acc: 0.0000e+00\n",
            "Epoch 71/100\n",
            "3/3 [==============================] - 0s 37ms/step - loss: 0.0040 - acc: 0.0000e+00\n",
            "Epoch 72/100\n",
            "3/3 [==============================] - 0s 39ms/step - loss: 0.0109 - acc: 0.0000e+00\n",
            "Epoch 73/100\n",
            "3/3 [==============================] - 0s 38ms/step - loss: 0.0045 - acc: 0.0000e+00\n",
            "Epoch 74/100\n",
            "3/3 [==============================] - 0s 38ms/step - loss: 0.0215 - acc: 0.0000e+00\n",
            "Epoch 75/100\n",
            "3/3 [==============================] - 0s 38ms/step - loss: 0.0144 - acc: 0.0000e+00\n",
            "Epoch 76/100\n",
            "3/3 [==============================] - 0s 39ms/step - loss: 0.0103 - acc: 0.0000e+00\n",
            "Epoch 77/100\n",
            "3/3 [==============================] - 0s 39ms/step - loss: 0.0264 - acc: 0.0000e+00\n",
            "Epoch 78/100\n",
            "3/3 [==============================] - 0s 38ms/step - loss: 0.0107 - acc: 0.0000e+00\n",
            "Epoch 79/100\n",
            "3/3 [==============================] - 0s 38ms/step - loss: 0.0199 - acc: 0.0000e+00\n",
            "Epoch 80/100\n",
            "3/3 [==============================] - 0s 39ms/step - loss: 0.0063 - acc: 0.0000e+00\n",
            "Epoch 81/100\n",
            "3/3 [==============================] - 0s 38ms/step - loss: 0.0045 - acc: 0.0000e+00\n",
            "Epoch 82/100\n",
            "3/3 [==============================] - 0s 38ms/step - loss: 0.0144 - acc: 0.0000e+00\n",
            "Epoch 83/100\n",
            "3/3 [==============================] - 0s 37ms/step - loss: 0.0013 - acc: 0.0000e+00\n",
            "Epoch 84/100\n",
            "3/3 [==============================] - 0s 37ms/step - loss: 2.1165e-04 - acc: 0.0000e+00\n",
            "Epoch 85/100\n",
            "3/3 [==============================] - 0s 38ms/step - loss: 0.0028 - acc: 0.0000e+00\n",
            "Epoch 86/100\n",
            "3/3 [==============================] - 0s 38ms/step - loss: 0.0230 - acc: 0.0000e+00\n",
            "Epoch 87/100\n",
            "3/3 [==============================] - 0s 38ms/step - loss: 0.0200 - acc: 0.0000e+00\n",
            "Epoch 88/100\n",
            "3/3 [==============================] - 0s 38ms/step - loss: 0.0139 - acc: 0.0000e+00\n",
            "Epoch 89/100\n",
            "3/3 [==============================] - 0s 38ms/step - loss: 0.0171 - acc: 0.0000e+00\n",
            "Epoch 90/100\n",
            "3/3 [==============================] - 0s 37ms/step - loss: 0.0041 - acc: 0.0000e+00\n",
            "Epoch 91/100\n",
            "3/3 [==============================] - 0s 37ms/step - loss: 0.0105 - acc: 0.0000e+00\n",
            "Epoch 92/100\n",
            "3/3 [==============================] - 0s 38ms/step - loss: 0.0057 - acc: 0.0000e+00\n",
            "Epoch 93/100\n",
            "3/3 [==============================] - 0s 38ms/step - loss: 0.0067 - acc: 0.0000e+00\n",
            "Epoch 94/100\n",
            "3/3 [==============================] - 0s 37ms/step - loss: 0.0052 - acc: 0.0000e+00\n",
            "Epoch 95/100\n",
            "3/3 [==============================] - 0s 38ms/step - loss: 0.0111 - acc: 0.0000e+00\n",
            "Epoch 96/100\n",
            "3/3 [==============================] - 0s 38ms/step - loss: 0.0011 - acc: 0.0000e+00\n",
            "Epoch 97/100\n",
            "3/3 [==============================] - 0s 38ms/step - loss: 0.0110 - acc: 0.0000e+00\n",
            "Epoch 98/100\n",
            "3/3 [==============================] - 0s 37ms/step - loss: 0.0013 - acc: 0.0000e+00\n",
            "Epoch 99/100\n",
            "3/3 [==============================] - 0s 38ms/step - loss: 0.0087 - acc: 0.0000e+00\n",
            "Epoch 100/100\n",
            "3/3 [==============================] - 0s 38ms/step - loss: 0.0153 - acc: 0.0000e+00\n"
          ],
          "name": "stdout"
        }
      ]
    },
    {
      "cell_type": "markdown",
      "metadata": {
        "id": "N9z3fwrFvJKq",
        "colab_type": "text"
      },
      "source": [
        "### 5 We plot the results"
      ]
    },
    {
      "cell_type": "code",
      "metadata": {
        "colab_type": "code",
        "id": "oicW9icQBZdN",
        "outputId": "239e5ee4-48f0-44c0-be29-ca9eef6ebf1f",
        "colab": {
          "base_uri": "https://localhost:8080/",
          "height": 295
        }
      },
      "source": [
        "import matplotlib.pyplot as plt\n",
        "\n",
        "acc = history.history['acc']\n",
        "loss = history.history['loss']\n",
        "\n",
        "epochs = range(1, len(acc) + 1)\n",
        "\n",
        "# \"bo\" is for \"blue dot\"\n",
        "plt.plot(epochs, loss, 'bo', label='Training loss')\n",
        "plt.title('Training and validation loss')\n",
        "plt.xlabel('Epochs')\n",
        "plt.ylabel('Loss')\n",
        "plt.legend()\n",
        "\n",
        "plt.show()"
      ],
      "execution_count": 0,
      "outputs": [
        {
          "output_type": "display_data",
          "data": {
            "image/png": "[encoded data removed]",
            "text/plain": [
              "<Figure size 432x288 with 1 Axes>"
            ]
          },
          "metadata": {
            "tags": []
          }
        }
      ]
    },
    {
      "cell_type": "code",
      "metadata": {
        "colab_type": "code",
        "id": "vkHLlMtJBjIQ",
        "outputId": "2caef8a7-160c-4925-ee22-6dc0f67bf0ec",
        "colab": {
          "base_uri": "https://localhost:8080/",
          "height": 295
        }
      },
      "source": [
        "plt.clf()   # clear figure\n",
        "plt.plot(epochs, acc, 'bo', label='Training acc')\n",
        "plt.title('Training and validation accuracy')\n",
        "plt.xlabel('Epochs')\n",
        "plt.ylabel('Accuracy')\n",
        "plt.legend()\n",
        "\n",
        "plt.show()"
      ],
      "execution_count": 0,
      "outputs": [
        {
          "output_type": "display_data",
          "data": {
            "image/png": "[encoded data removed]",
            "text/plain": [
              "<Figure size 432x288 with 1 Axes>"
            ]
          },
          "metadata": {
            "tags": []
          }
        }
      ]
    }
  ]
}