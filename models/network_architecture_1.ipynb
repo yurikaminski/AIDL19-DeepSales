{
  "nbformat": 4,
  "nbformat_minor": 0,
  "metadata": {
    "colab": {
      "name": "network_architecture.ipynb",
      "version": "0.3.2",
      "provenance": [],
      "collapsed_sections": [
        "sbbUtRphzBY3",
        "axTTPeUPzBZi"
      ]
    },
    "kernelspec": {
      "name": "python3",
      "display_name": "Python 3"
    },
    "accelerator": "GPU"
  },
  "cells": [
    {
      "cell_type": "code",
      "metadata": {
        "id": "LZQly301zBXH",
        "colab_type": "code",
        "outputId": "0bcc1cb4-8897-4ff2-d6ec-a07040989794",
        "colab": {
          "base_uri": "https://localhost:8080/",
          "height": 34
        }
      },
      "source": [
        "import numpy as np\n",
        "import keras\n",
        "from scipy.io import wavfile\n",
        "keras.__version__\n",
        "np.random.seed(123)"
      ],
      "execution_count": 0,
      "outputs": [
        {
          "output_type": "stream",
          "text": [
            "Using TensorFlow backend.\n"
          ],
          "name": "stderr"
        }
      ]
    },
    {
      "cell_type": "code",
      "metadata": {
        "id": "bfu24Cq7-8Rn",
        "colab_type": "code",
        "outputId": "b97f668d-eed3-44b4-904f-87316d62d609",
        "colab": {
          "base_uri": "https://localhost:8080/",
          "height": 91
        }
      },
      "source": [
        "from keras import models\n",
        "from keras import layers\n",
        "from keras import utils\n",
        "\n",
        "\n",
        "model = models.Sequential()\n",
        "model.add(layers.Conv1D(filters=64,kernel_size= 129, padding='same',input_shape=(24000,1)))\n",
        "model.add(layers.MaxPooling1D(pool_size=8))\n",
        "model.add(layers.Reshape((3000,64,1)))\n",
        "model.add(layers.Conv2D(filters=96, kernel_size=(61,1),padding = 'same',activation='relu'))\n",
        "model.add(layers.MaxPooling2D(pool_size=(8,1)))\n",
        "model.add(layers.Conv2D(filters=128, kernel_size= (35,1), padding = 'same',activation='relu'))\n",
        "model.add(layers.MaxPooling2D(pool_size=(4,1)))\n",
        "model.add(layers.Conv2D(filters=160, kernel_size= (17,1), padding = 'same', activation='relu'))\n",
        "model.add(layers.MaxPooling2D(pool_size=(12,1)))\n",
        "model.add(layers.AveragePooling2D((5,1)))\n",
        "model.add(layers.Flatten())\n",
        "model.add(layers.MaxoutDense(output_dim=128,nb_feature=2))\n",
        "model.add(layers.Dropout(0.5))\n",
        "model.add(layers.MaxoutDense(output_dim=64, nb_feature=2))\n",
        "model.add(layers.Dropout(0.5))\n",
        "model.add(layers.Dense(1, activation='sigmoid'))\n",
        "\n",
        "\n"
      ],
      "execution_count": 0,
      "outputs": [
        {
          "output_type": "stream",
          "text": [
            "/usr/local/lib/python3.6/dist-packages/keras/legacy/layers.py:74: UserWarning: The `MaxoutDense` layer is deprecated and will be removed after 06/2017.\n",
            "  warnings.warn('The `MaxoutDense` layer is deprecated '\n"
          ],
          "name": "stderr"
        }
      ]
    },
    {
      "cell_type": "code",
      "metadata": {
        "id": "ryJQ27Qu_MA2",
        "colab_type": "code",
        "colab": {}
      },
      "source": [
        "model.compile(optimizer='rmsprop',\n",
        "              loss='binary_crossentropy',\n",
        "              metrics=['accuracy'])"
      ],
      "execution_count": 0,
      "outputs": []
    },
    {
      "cell_type": "code",
      "metadata": {
        "id": "oZSMOYr7nm1l",
        "colab_type": "code",
        "outputId": "859f8780-3756-4294-e2f6-ea967ae37b5a",
        "colab": {
          "base_uri": "https://localhost:8080/",
          "height": 680
        }
      },
      "source": [
        "model.summary()"
      ],
      "execution_count": 0,
      "outputs": [
        {
          "output_type": "stream",
          "text": [
            "_________________________________________________________________\n",
            "Layer (type)                 Output Shape              Param #   \n",
            "=================================================================\n",
            "conv1d_24 (Conv1D)           (None, 24000, 64)         8320      \n",
            "_________________________________________________________________\n",
            "max_pooling1d_24 (MaxPooling (None, 3000, 64)          0         \n",
            "_________________________________________________________________\n",
            "reshape_24 (Reshape)         (None, 3000, 64, 1)       0         \n",
            "_________________________________________________________________\n",
            "conv2d_70 (Conv2D)           (None, 3000, 64, 96)      5952      \n",
            "_________________________________________________________________\n",
            "max_pooling2d_70 (MaxPooling (None, 375, 64, 96)       0         \n",
            "_________________________________________________________________\n",
            "conv2d_71 (Conv2D)           (None, 375, 64, 128)      430208    \n",
            "_________________________________________________________________\n",
            "max_pooling2d_71 (MaxPooling (None, 93, 64, 128)       0         \n",
            "_________________________________________________________________\n",
            "conv2d_72 (Conv2D)           (None, 93, 64, 160)       348320    \n",
            "_________________________________________________________________\n",
            "max_pooling2d_72 (MaxPooling (None, 7, 64, 160)        0         \n",
            "_________________________________________________________________\n",
            "average_pooling2d_24 (Averag (None, 1, 64, 160)        0         \n",
            "_________________________________________________________________\n",
            "flatten_23 (Flatten)         (None, 10240)             0         \n",
            "_________________________________________________________________\n",
            "maxout_dense_25 (MaxoutDense (None, 128)               2621696   \n",
            "_________________________________________________________________\n",
            "dropout_7 (Dropout)          (None, 128)               0         \n",
            "_________________________________________________________________\n",
            "maxout_dense_26 (MaxoutDense (None, 64)                16512     \n",
            "_________________________________________________________________\n",
            "dropout_8 (Dropout)          (None, 64)                0         \n",
            "_________________________________________________________________\n",
            "dense_49 (Dense)             (None, 1)                 65        \n",
            "=================================================================\n",
            "Total params: 3,431,073\n",
            "Trainable params: 3,431,073\n",
            "Non-trainable params: 0\n",
            "_________________________________________________________________\n"
          ],
          "name": "stdout"
        }
      ]
    },
    {
      "cell_type": "code",
      "metadata": {
        "id": "1K69bBZGsh4A",
        "colab_type": "code",
        "outputId": "844e1308-8bed-4905-ae36-eb8f72e9c627",
        "colab": {
          "base_uri": "https://localhost:8080/",
          "height": 34
        }
      },
      "source": [
        "\n",
        "numSamples = 2\n",
        "dummyTraining = np.random.random((numSamples,24000,1))\n",
        "dummyLabel = numSamples * [0]\n",
        "for i in range(numSamples):  \n",
        "  if (np.mean(dummyTraining[i])>0.5):\n",
        "    dummyLabel[i]=1\n",
        "  else:\n",
        "    dummyLabel[i]=0\n",
        "   \n",
        "dummyLabel[:10]"
      ],
      "execution_count": 0,
      "outputs": [
        {
          "output_type": "execute_result",
          "data": {
            "text/plain": [
              "[1, 1]"
            ]
          },
          "metadata": {
            "tags": []
          },
          "execution_count": 90
        }
      ]
    },
    {
      "cell_type": "code",
      "metadata": {
        "id": "erZGeEim_3CT",
        "colab_type": "code",
        "outputId": "66495afe-fce3-44b6-d490-6fe0b06a5288",
        "colab": {
          "base_uri": "https://localhost:8080/",
          "height": 3417
        }
      },
      "source": [
        "history = model.fit(dummyTraining,\n",
        "                    dummyLabel,\n",
        "                    epochs=100,\n",
        "                    batch_size=2)\n",
        "original_hist = history"
      ],
      "execution_count": 0,
      "outputs": [
        {
          "output_type": "stream",
          "text": [
            "Epoch 1/100\n",
            "2/2 [==============================] - 1s 337ms/step - loss: 1.2497 - acc: 0.0000e+00\n",
            "Epoch 2/100\n",
            "2/2 [==============================] - 0s 42ms/step - loss: 0.8021 - acc: 0.0000e+00\n",
            "Epoch 3/100\n",
            "2/2 [==============================] - 0s 41ms/step - loss: 0.7619 - acc: 0.0000e+00\n",
            "Epoch 4/100\n",
            "2/2 [==============================] - 0s 41ms/step - loss: 0.7304 - acc: 0.0000e+00\n",
            "Epoch 5/100\n",
            "2/2 [==============================] - 0s 41ms/step - loss: 0.6903 - acc: 1.0000\n",
            "Epoch 6/100\n",
            "2/2 [==============================] - 0s 40ms/step - loss: 0.5542 - acc: 1.0000\n",
            "Epoch 7/100\n",
            "2/2 [==============================] - 0s 40ms/step - loss: 0.0228 - acc: 1.0000\n",
            "Epoch 8/100\n",
            "2/2 [==============================] - 0s 40ms/step - loss: 1.7464e-05 - acc: 1.0000\n",
            "Epoch 9/100\n",
            "2/2 [==============================] - 0s 40ms/step - loss: 1.6391e-05 - acc: 1.0000\n",
            "Epoch 10/100\n",
            "2/2 [==============================] - 0s 41ms/step - loss: 1.5915e-05 - acc: 1.0000\n",
            "Epoch 11/100\n",
            "2/2 [==============================] - 0s 39ms/step - loss: 1.5438e-05 - acc: 1.0000\n",
            "Epoch 12/100\n",
            "2/2 [==============================] - 0s 40ms/step - loss: 1.4961e-05 - acc: 1.0000\n",
            "Epoch 13/100\n",
            "2/2 [==============================] - 0s 40ms/step - loss: 1.4484e-05 - acc: 1.0000\n",
            "Epoch 14/100\n",
            "2/2 [==============================] - 0s 40ms/step - loss: 1.4126e-05 - acc: 1.0000\n",
            "Epoch 15/100\n",
            "2/2 [==============================] - 0s 40ms/step - loss: 1.3650e-05 - acc: 1.0000\n",
            "Epoch 16/100\n",
            "2/2 [==============================] - 0s 41ms/step - loss: 1.3173e-05 - acc: 1.0000\n",
            "Epoch 17/100\n",
            "2/2 [==============================] - 0s 41ms/step - loss: 1.2815e-05 - acc: 1.0000\n",
            "Epoch 18/100\n",
            "2/2 [==============================] - 0s 41ms/step - loss: 1.2338e-05 - acc: 1.0000\n",
            "Epoch 19/100\n",
            "2/2 [==============================] - 0s 40ms/step - loss: 1.1861e-05 - acc: 1.0000\n",
            "Epoch 20/100\n",
            "2/2 [==============================] - 0s 41ms/step - loss: 1.1385e-05 - acc: 1.0000\n",
            "Epoch 21/100\n",
            "2/2 [==============================] - 0s 40ms/step - loss: 1.0908e-05 - acc: 1.0000\n",
            "Epoch 22/100\n",
            "2/2 [==============================] - 0s 40ms/step - loss: 1.0431e-05 - acc: 1.0000\n",
            "Epoch 23/100\n",
            "2/2 [==============================] - 0s 40ms/step - loss: 9.8944e-06 - acc: 1.0000\n",
            "Epoch 24/100\n",
            "2/2 [==============================] - 0s 40ms/step - loss: 9.3580e-06 - acc: 1.0000\n",
            "Epoch 25/100\n",
            "2/2 [==============================] - 0s 40ms/step - loss: 8.8811e-06 - acc: 1.0000\n",
            "Epoch 26/100\n",
            "2/2 [==============================] - 0s 41ms/step - loss: 8.3447e-06 - acc: 1.0000\n",
            "Epoch 27/100\n",
            "2/2 [==============================] - 0s 40ms/step - loss: 7.8082e-06 - acc: 1.0000\n",
            "Epoch 28/100\n",
            "2/2 [==============================] - 0s 39ms/step - loss: 7.2718e-06 - acc: 1.0000\n",
            "Epoch 29/100\n",
            "2/2 [==============================] - 0s 39ms/step - loss: 6.7950e-06 - acc: 1.0000\n",
            "Epoch 30/100\n",
            "2/2 [==============================] - 0s 40ms/step - loss: 6.2585e-06 - acc: 1.0000\n",
            "Epoch 31/100\n",
            "2/2 [==============================] - 0s 40ms/step - loss: 5.7817e-06 - acc: 1.0000\n",
            "Epoch 32/100\n",
            "2/2 [==============================] - 0s 41ms/step - loss: 5.3644e-06 - acc: 1.0000\n",
            "Epoch 33/100\n",
            "2/2 [==============================] - 0s 42ms/step - loss: 4.8876e-06 - acc: 1.0000\n",
            "Epoch 34/100\n",
            "2/2 [==============================] - 0s 41ms/step - loss: 4.5300e-06 - acc: 1.0000\n",
            "Epoch 35/100\n",
            "2/2 [==============================] - 0s 40ms/step - loss: 4.1723e-06 - acc: 1.0000\n",
            "Epoch 36/100\n",
            "2/2 [==============================] - 0s 42ms/step - loss: 3.8147e-06 - acc: 1.0000\n",
            "Epoch 37/100\n",
            "2/2 [==============================] - 0s 40ms/step - loss: 3.4571e-06 - acc: 1.0000\n",
            "Epoch 38/100\n",
            "2/2 [==============================] - 0s 41ms/step - loss: 3.1591e-06 - acc: 1.0000\n",
            "Epoch 39/100\n",
            "2/2 [==============================] - 0s 42ms/step - loss: 2.8610e-06 - acc: 1.0000\n",
            "Epoch 40/100\n",
            "2/2 [==============================] - 0s 42ms/step - loss: 2.6226e-06 - acc: 1.0000\n",
            "Epoch 41/100\n",
            "2/2 [==============================] - 0s 40ms/step - loss: 2.3842e-06 - acc: 1.0000\n",
            "Epoch 42/100\n",
            "2/2 [==============================] - 0s 40ms/step - loss: 2.1458e-06 - acc: 1.0000\n",
            "Epoch 43/100\n",
            "2/2 [==============================] - 0s 39ms/step - loss: 2.0266e-06 - acc: 1.0000\n",
            "Epoch 44/100\n",
            "2/2 [==============================] - 0s 41ms/step - loss: 1.7881e-06 - acc: 1.0000\n",
            "Epoch 45/100\n",
            "2/2 [==============================] - 0s 41ms/step - loss: 1.6689e-06 - acc: 1.0000\n",
            "Epoch 46/100\n",
            "2/2 [==============================] - 0s 41ms/step - loss: 1.5497e-06 - acc: 1.0000\n",
            "Epoch 47/100\n",
            "2/2 [==============================] - 0s 41ms/step - loss: 1.4305e-06 - acc: 1.0000\n",
            "Epoch 48/100\n",
            "2/2 [==============================] - 0s 41ms/step - loss: 1.3113e-06 - acc: 1.0000\n",
            "Epoch 49/100\n",
            "2/2 [==============================] - 0s 40ms/step - loss: 1.1921e-06 - acc: 1.0000\n",
            "Epoch 50/100\n",
            "2/2 [==============================] - 0s 40ms/step - loss: 1.0729e-06 - acc: 1.0000\n",
            "Epoch 51/100\n",
            "2/2 [==============================] - 0s 40ms/step - loss: 9.5367e-07 - acc: 1.0000\n",
            "Epoch 52/100\n",
            "2/2 [==============================] - 0s 40ms/step - loss: 8.9407e-07 - acc: 1.0000\n",
            "Epoch 53/100\n",
            "2/2 [==============================] - 0s 40ms/step - loss: 8.3447e-07 - acc: 1.0000\n",
            "Epoch 54/100\n",
            "2/2 [==============================] - 0s 40ms/step - loss: 7.1526e-07 - acc: 1.0000\n",
            "Epoch 55/100\n",
            "2/2 [==============================] - 0s 40ms/step - loss: 7.1526e-07 - acc: 1.0000\n",
            "Epoch 56/100\n",
            "2/2 [==============================] - 0s 41ms/step - loss: 5.9605e-07 - acc: 1.0000\n",
            "Epoch 57/100\n",
            "2/2 [==============================] - 0s 40ms/step - loss: 5.9605e-07 - acc: 1.0000\n",
            "Epoch 58/100\n",
            "2/2 [==============================] - 0s 39ms/step - loss: 5.9605e-07 - acc: 1.0000\n",
            "Epoch 59/100\n",
            "2/2 [==============================] - 0s 40ms/step - loss: 4.7684e-07 - acc: 1.0000\n",
            "Epoch 60/100\n",
            "2/2 [==============================] - 0s 40ms/step - loss: 4.7684e-07 - acc: 1.0000\n",
            "Epoch 61/100\n",
            "2/2 [==============================] - 0s 40ms/step - loss: 4.7684e-07 - acc: 1.0000\n",
            "Epoch 62/100\n",
            "2/2 [==============================] - 0s 39ms/step - loss: 3.5763e-07 - acc: 1.0000\n",
            "Epoch 63/100\n",
            "2/2 [==============================] - 0s 40ms/step - loss: 3.5763e-07 - acc: 1.0000\n",
            "Epoch 64/100\n",
            "2/2 [==============================] - 0s 40ms/step - loss: 3.5763e-07 - acc: 1.0000\n",
            "Epoch 65/100\n",
            "2/2 [==============================] - 0s 41ms/step - loss: 3.5763e-07 - acc: 1.0000\n",
            "Epoch 66/100\n",
            "2/2 [==============================] - 0s 39ms/step - loss: 2.9802e-07 - acc: 1.0000\n",
            "Epoch 67/100\n",
            "2/2 [==============================] - 0s 40ms/step - loss: 2.3842e-07 - acc: 1.0000\n",
            "Epoch 68/100\n",
            "2/2 [==============================] - 0s 39ms/step - loss: 2.3842e-07 - acc: 1.0000\n",
            "Epoch 69/100\n",
            "2/2 [==============================] - 0s 40ms/step - loss: 2.3842e-07 - acc: 1.0000\n",
            "Epoch 70/100\n",
            "2/2 [==============================] - 0s 42ms/step - loss: 2.3842e-07 - acc: 1.0000\n",
            "Epoch 71/100\n",
            "2/2 [==============================] - 0s 39ms/step - loss: 2.3842e-07 - acc: 1.0000\n",
            "Epoch 72/100\n",
            "2/2 [==============================] - 0s 40ms/step - loss: 2.3842e-07 - acc: 1.0000\n",
            "Epoch 73/100\n",
            "2/2 [==============================] - 0s 41ms/step - loss: 2.3842e-07 - acc: 1.0000\n",
            "Epoch 74/100\n",
            "2/2 [==============================] - 0s 41ms/step - loss: 1.1921e-07 - acc: 1.0000\n",
            "Epoch 75/100\n",
            "2/2 [==============================] - 0s 40ms/step - loss: 1.1921e-07 - acc: 1.0000\n",
            "Epoch 76/100\n",
            "2/2 [==============================] - 0s 40ms/step - loss: 1.1921e-07 - acc: 1.0000\n",
            "Epoch 77/100\n",
            "2/2 [==============================] - 0s 40ms/step - loss: 1.1921e-07 - acc: 1.0000\n",
            "Epoch 78/100\n",
            "2/2 [==============================] - 0s 42ms/step - loss: 1.1921e-07 - acc: 1.0000\n",
            "Epoch 79/100\n",
            "2/2 [==============================] - 0s 41ms/step - loss: 1.1921e-07 - acc: 1.0000\n",
            "Epoch 80/100\n",
            "2/2 [==============================] - 0s 40ms/step - loss: 1.1921e-07 - acc: 1.0000\n",
            "Epoch 81/100\n",
            "2/2 [==============================] - 0s 40ms/step - loss: 1.1921e-07 - acc: 1.0000\n",
            "Epoch 82/100\n",
            "2/2 [==============================] - 0s 41ms/step - loss: 1.1921e-07 - acc: 1.0000\n",
            "Epoch 83/100\n",
            "2/2 [==============================] - 0s 42ms/step - loss: 1.1921e-07 - acc: 1.0000\n",
            "Epoch 84/100\n",
            "2/2 [==============================] - 0s 45ms/step - loss: 1.1921e-07 - acc: 1.0000\n",
            "Epoch 85/100\n",
            "2/2 [==============================] - 0s 42ms/step - loss: 1.1921e-07 - acc: 1.0000\n",
            "Epoch 86/100\n",
            "2/2 [==============================] - 0s 41ms/step - loss: 1.1921e-07 - acc: 1.0000\n",
            "Epoch 87/100\n",
            "2/2 [==============================] - 0s 40ms/step - loss: 1.1921e-07 - acc: 1.0000\n",
            "Epoch 88/100\n",
            "2/2 [==============================] - 0s 40ms/step - loss: 1.1921e-07 - acc: 1.0000\n",
            "Epoch 89/100\n",
            "2/2 [==============================] - 0s 39ms/step - loss: 1.1921e-07 - acc: 1.0000\n",
            "Epoch 90/100\n",
            "2/2 [==============================] - 0s 40ms/step - loss: 1.1921e-07 - acc: 1.0000\n",
            "Epoch 91/100\n",
            "2/2 [==============================] - 0s 39ms/step - loss: 1.1921e-07 - acc: 1.0000\n",
            "Epoch 92/100\n",
            "2/2 [==============================] - 0s 40ms/step - loss: 1.1921e-07 - acc: 1.0000\n",
            "Epoch 93/100\n",
            "2/2 [==============================] - 0s 41ms/step - loss: 1.1921e-07 - acc: 1.0000\n",
            "Epoch 94/100\n",
            "2/2 [==============================] - 0s 40ms/step - loss: 1.1921e-07 - acc: 1.0000\n",
            "Epoch 95/100\n",
            "2/2 [==============================] - 0s 40ms/step - loss: 1.1921e-07 - acc: 1.0000\n",
            "Epoch 96/100\n",
            "2/2 [==============================] - 0s 41ms/step - loss: 1.1921e-07 - acc: 1.0000\n",
            "Epoch 97/100\n",
            "2/2 [==============================] - 0s 40ms/step - loss: 1.1921e-07 - acc: 1.0000\n",
            "Epoch 98/100\n",
            "2/2 [==============================] - 0s 40ms/step - loss: 1.1921e-07 - acc: 1.0000\n",
            "Epoch 99/100\n",
            "2/2 [==============================] - 0s 40ms/step - loss: 1.1921e-07 - acc: 1.0000\n",
            "Epoch 100/100\n",
            "2/2 [==============================] - 0s 41ms/step - loss: 1.1921e-07 - acc: 1.0000\n"
          ],
          "name": "stdout"
        }
      ]
    },
    {
      "cell_type": "code",
      "metadata": {
        "id": "oicW9icQBZdN",
        "colab_type": "code",
        "outputId": "9354d048-fdd7-4577-caa6-542831cd1076",
        "colab": {
          "base_uri": "https://localhost:8080/",
          "height": 295
        }
      },
      "source": [
        "import matplotlib.pyplot as plt\n",
        "\n",
        "acc = history.history['acc']\n",
        "loss = history.history['loss']\n",
        "\n",
        "epochs = range(1, len(acc) + 1)\n",
        "\n",
        "# \"bo\" is for \"blue dot\"\n",
        "plt.plot(epochs, loss, 'bo', label='Training loss')\n",
        "plt.title('Training and validation loss')\n",
        "plt.xlabel('Epochs')\n",
        "plt.ylabel('Loss')\n",
        "plt.legend()\n",
        "\n",
        "plt.show()"
      ],
      "execution_count": 0,
      "outputs": [
        {
          "output_type": "display_data",
          "data": {
            "image/png": "[encoded data removed]",
            "text/plain": [
              "<Figure size 432x288 with 1 Axes>"
            ]
          },
          "metadata": {
            "tags": []
          }
        }
      ]
    },
    {
      "cell_type": "code",
      "metadata": {
        "id": "vkHLlMtJBjIQ",
        "colab_type": "code",
        "outputId": "b89421a5-1ec4-4819-fd6c-285956ed0b88",
        "colab": {
          "base_uri": "https://localhost:8080/",
          "height": 295
        }
      },
      "source": [
        "plt.clf()   # clear figure\n",
        "acc_values = history_dict['acc']\n",
        "plt.plot(epochs, acc, 'bo', label='Training acc')\n",
        "plt.title('Training and validation accuracy')\n",
        "plt.xlabel('Epochs')\n",
        "plt.ylabel('Accuracy')\n",
        "plt.legend()\n",
        "\n",
        "plt.show()"
      ],
      "execution_count": 0,
      "outputs": [
        {
          "output_type": "display_data",
          "data": {
            "image/png": "[encoded data removed]",
            "text/plain": [
              "<Figure size 432x288 with 1 Axes>"
            ]
          },
          "metadata": {
            "tags": []
          }
        }
      ]
    }
  ]
}